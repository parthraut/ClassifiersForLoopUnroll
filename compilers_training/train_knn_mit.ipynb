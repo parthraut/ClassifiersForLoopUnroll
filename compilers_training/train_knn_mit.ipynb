{
 "cells": [
  {
   "cell_type": "code",
   "execution_count": 130,
   "metadata": {},
   "outputs": [],
   "source": [
    "import pandas as pd"
   ]
  },
  {
   "attachments": {},
   "cell_type": "markdown",
   "metadata": {},
   "source": [
    "# Load Dataset"
   ]
  },
  {
   "cell_type": "code",
   "execution_count": 131,
   "metadata": {},
   "outputs": [],
   "source": [
    "df = pd.read_csv(\"datasets/dataset.csv\")\n",
    "columns = list(df.columns)\n",
    "Y_columns = [\"program_name\", \"optimal_luf\", \"loop_line_number\"]\n",
    "input_features = [x for x in columns if x not in Y_columns]\n",
    "X = df[input_features]\n",
    "Y = df[\"optimal_luf\"]\n",
    "\n",
    "features = set(X.columns)"
   ]
  },
  {
   "attachments": {},
   "cell_type": "markdown",
   "metadata": {},
   "source": [
    "# Filter"
   ]
  },
  {
   "cell_type": "code",
   "execution_count": 132,
   "metadata": {},
   "outputs": [
    {
     "name": "stdout",
     "output_type": "stream",
     "text": [
      "optimal_luf\n",
      "1    71\n",
      "4    33\n",
      "8    32\n",
      "3    27\n",
      "5    27\n",
      "6    25\n",
      "2    22\n",
      "7    10\n",
      "Name: count, dtype: int64\n"
     ]
    }
   ],
   "source": [
    "frequency = Y.value_counts()\n",
    "print(frequency)"
   ]
  },
  {
   "cell_type": "code",
   "execution_count": 133,
   "metadata": {},
   "outputs": [
    {
     "data": {
      "image/png": "[encoded data removed]",
      "text/plain": [
       "<Figure size 640x480 with 1 Axes>"
      ]
     },
     "metadata": {},
     "output_type": "display_data"
    }
   ],
   "source": [
    "import matplotlib.pyplot as plt\n",
    "\n",
    "# Extract keys and values from the dictionary\n",
    "categories = list(dict(frequency).keys())\n",
    "values = list(dict(frequency).values())\n",
    "\n",
    "# Plot the histogram\n",
    "plt.bar(categories, values, alpha=0.7)\n",
    "\n",
    "# Add labels and title\n",
    "plt.xlabel('Optimal LUF')\n",
    "plt.ylabel('Frequency')\n",
    "\n",
    "# Show the plot\n",
    "plt.show()"
   ]
  },
  {
   "cell_type": "code",
   "execution_count": 134,
   "metadata": {},
   "outputs": [
    {
     "name": "stdout",
     "output_type": "stream",
     "text": [
      "optimal_luf\n",
      "1    71\n",
      "4    33\n",
      "8    32\n",
      "Name: count, dtype: int64\n"
     ]
    }
   ],
   "source": [
    "Y = Y[Y.isin([1, 4, 8])]\n",
    "Y_indices = list(Y.index)\n",
    "X = X.loc[Y_indices]\n",
    "\n",
    "frequency = Y.value_counts()\n",
    "print(frequency)"
   ]
  },
  {
   "cell_type": "code",
   "execution_count": 135,
   "metadata": {},
   "outputs": [
    {
     "name": "stdout",
     "output_type": "stream",
     "text": [
      "136\n"
     ]
    }
   ],
   "source": [
    "print(len(X))"
   ]
  },
  {
   "attachments": {},
   "cell_type": "markdown",
   "metadata": {},
   "source": [
    "# Train RF"
   ]
  },
  {
   "cell_type": "code",
   "execution_count": 136,
   "metadata": {},
   "outputs": [],
   "source": [
    "from sklearn.datasets import fetch_covtype\n",
    "from sklearn.ensemble import RandomForestClassifier\n",
    "from sklearn.model_selection import GridSearchCV as grid_search\n",
    "import numpy as np\n",
    "from sklearn.metrics import classification_report\n",
    "from sklearn.model_selection import train_test_split\n",
    "from sklearn.preprocessing import StandardScaler\n",
    "from sklearn.pipeline import make_pipeline\n",
    "from sklearn.model_selection import GridSearchCV, StratifiedKFold, cross_val_predict\n",
    "from sklearn.neighbors import KNeighborsClassifier"
   ]
  },
  {
   "attachments": {},
   "cell_type": "markdown",
   "metadata": {},
   "source": [
    "## Feature Selection"
   ]
  },
  {
   "cell_type": "code",
   "execution_count": 137,
   "metadata": {},
   "outputs": [
    {
     "name": "stdout",
     "output_type": "stream",
     "text": [
      "\n",
      "====================\n",
      "Testing intra_loop_dependencies_anti\n",
      "Score: 0.5148148148148148\n",
      "Testing intra_loop_dependencies_flow\n",
      "Score: 0.5142857142857142\n",
      "Testing max_inter_loop_dependency_distance_anti\n",
      "Score: 0.521957671957672\n",
      "Testing alui\n",
      "Score: 0.5291005291005291\n",
      "Testing branch\n",
      "Score: 0.521957671957672\n",
      "Testing mem\n",
      "Score: 0.5367724867724868\n",
      "Testing max_intra_loop_dependency_distance_output\n",
      "Score: 0.521957671957672\n",
      "Testing max_inter_loop_dependency_distance_output\n",
      "Score: 0.521957671957672\n",
      "Testing max_intra_loop_dependency_distance_anti\n",
      "Score: 0.521957671957672\n",
      "Testing load\n",
      "Score: 0.521957671957672\n",
      "Testing inter_loop_dependencies_output\n",
      "Score: 0.5145502645502645\n",
      "Testing array_reads\n",
      "Score: 0.521957671957672\n",
      "Testing operand_sum\n",
      "Score: 0.5367724867724868\n",
      "Testing aluf\n",
      "Score: 0.521957671957672\n",
      "Testing loop_nest_level\n",
      "Score: 0.523015873015873\n",
      "Testing resmii_121\n",
      "Score: 0.5359788359788359\n",
      "Testing other\n",
      "Score: 0.5145502645502645\n",
      "Testing resmii_111\n",
      "Score: 0.4843915343915343\n",
      "Testing array_writes\n",
      "Score: 0.521957671957672\n",
      "Testing max_inter_loop_dependency_distance_flow\n",
      "Score: 0.521957671957672\n",
      "Testing array_accesses\n",
      "Score: 0.521957671957672\n",
      "Testing inter_loop_dependencies\n",
      "Score: 0.521957671957672\n",
      "Testing instruction_sum\n",
      "Score: 0.521957671957672\n",
      "Testing has_inter_loop_carried_dependency\n",
      "Score: 0.521957671957672\n",
      "Testing inter_loop_dependencies_anti\n",
      "Score: 0.521957671957672\n",
      "Testing resmii_211\n",
      "Score: 0.5222222222222223\n",
      "Testing store\n",
      "Score: 0.5365079365079365\n",
      "Testing intra_loop_dependencies\n",
      "Score: 0.48571428571428577\n",
      "Testing max_intra_loop_dependency_distance\n",
      "Score: 0.521957671957672\n",
      "Testing inter_loop_dependencies_flow\n",
      "Score: 0.521957671957672\n",
      "Testing intra_loop_dependencies_output\n",
      "Score: 0.5367724867724868\n",
      "Testing trip_count\n",
      "Score: 0.5214285714285715\n",
      "Testing max_inter_loop_dependency_distance\n",
      "Score: 0.521957671957672\n",
      "Testing max_intra_loop_dependency_distance_flow\n",
      "Score: 0.521957671957672\n",
      "Found best!\n",
      "Curr features: {'mem'}\n",
      "Best score: 0.5367724867724868\n",
      "\n",
      "====================\n",
      "Testing intra_loop_dependencies_anti\n",
      "Score: 0.521957671957672\n",
      "Testing intra_loop_dependencies_flow\n",
      "Score: 0.4920634920634921\n",
      "Testing max_inter_loop_dependency_distance_anti\n",
      "Score: 0.5145502645502645\n",
      "Testing alui\n",
      "Score: 0.5365079365079365\n",
      "Testing branch\n",
      "Score: 0.5293650793650795\n",
      "Testing max_intra_loop_dependency_distance_output\n",
      "Score: 0.5367724867724868\n",
      "Testing max_inter_loop_dependency_distance_output\n",
      "Score: 0.5367724867724868\n",
      "Testing max_intra_loop_dependency_distance_anti\n",
      "Score: 0.5367724867724868\n",
      "Testing load\n",
      "Score: 0.5000000000000001\n",
      "Testing inter_loop_dependencies_output\n",
      "Score: 0.4780423280423281\n",
      "Testing array_reads\n",
      "Score: 0.5222222222222221\n",
      "Testing operand_sum\n",
      "Score: 0.5365079365079365\n",
      "Testing aluf\n",
      "Score: 0.5216931216931217\n",
      "Testing loop_nest_level\n",
      "Score: 0.5740740740740741\n",
      "Testing resmii_121\n",
      "Score: 0.5145502645502645\n",
      "Testing other\n",
      "Score: 0.5291005291005291\n",
      "Testing resmii_111\n",
      "Score: 0.521957671957672\n",
      "Testing array_writes\n",
      "Score: 0.5293650793650794\n",
      "Testing max_inter_loop_dependency_distance_flow\n",
      "Score: 0.5145502645502645\n",
      "Testing array_accesses\n",
      "Score: 0.515079365079365\n",
      "Testing inter_loop_dependencies\n",
      "Score: 0.5224867724867724\n",
      "Testing instruction_sum\n",
      "Score: 0.5367724867724868\n",
      "Testing has_inter_loop_carried_dependency\n",
      "Score: 0.5145502645502645\n",
      "Testing inter_loop_dependencies_anti\n",
      "Score: 0.5145502645502645\n",
      "Testing resmii_211\n",
      "Score: 0.521957671957672\n",
      "Testing store\n",
      "Score: 0.5145502645502645\n",
      "Testing intra_loop_dependencies\n",
      "Score: 0.49973544973544975\n",
      "Testing max_intra_loop_dependency_distance\n",
      "Score: 0.5367724867724868\n",
      "Testing inter_loop_dependencies_flow\n",
      "Score: 0.5145502645502645\n",
      "Testing intra_loop_dependencies_output\n",
      "Score: 0.5002645502645503\n",
      "Testing trip_count\n",
      "Score: 0.521957671957672\n",
      "Testing max_inter_loop_dependency_distance\n",
      "Score: 0.5298941798941799\n",
      "Testing max_intra_loop_dependency_distance_flow\n",
      "Score: 0.5367724867724868\n",
      "Found best!\n",
      "Curr features: {'loop_nest_level', 'mem'}\n",
      "Best score: 0.5740740740740741\n",
      "\n",
      "====================\n",
      "Testing intra_loop_dependencies_anti\n",
      "Score: 0.5513227513227513\n",
      "Testing intra_loop_dependencies_flow\n",
      "Score: 0.5365079365079366\n",
      "Testing max_inter_loop_dependency_distance_anti\n",
      "Score: 0.5296296296296296\n",
      "Testing alui\n",
      "Score: 0.5732804232804234\n",
      "Testing branch\n",
      "Score: 0.6034391534391534\n",
      "Testing max_intra_loop_dependency_distance_output\n",
      "Score: 0.5740740740740741\n",
      "Testing max_inter_loop_dependency_distance_output\n",
      "Score: 0.5740740740740741\n",
      "Testing max_intra_loop_dependency_distance_anti\n",
      "Score: 0.5740740740740741\n",
      "Testing load\n",
      "Score: 0.6103174603174603\n",
      "Testing inter_loop_dependencies_output\n",
      "Score: 0.5291005291005291\n",
      "Testing array_reads\n",
      "Score: 0.5439153439153439\n",
      "Testing operand_sum\n",
      "Score: 0.5296296296296297\n",
      "Testing aluf\n",
      "Score: 0.5441798941798941\n",
      "Testing resmii_121\n",
      "Score: 0.5373015873015873\n",
      "Testing other\n",
      "Score: 0.5148148148148148\n",
      "Testing resmii_111\n",
      "Score: 0.5444444444444444\n",
      "Testing array_writes\n",
      "Score: 0.5809523809523809\n",
      "Testing max_inter_loop_dependency_distance_flow\n",
      "Score: 0.5296296296296296\n",
      "Testing array_accesses\n",
      "Score: 0.5883597883597883\n",
      "Testing inter_loop_dependencies\n",
      "Score: 0.558994708994709\n",
      "Testing instruction_sum\n",
      "Score: 0.5367724867724868\n",
      "Testing has_inter_loop_carried_dependency\n",
      "Score: 0.5296296296296296\n",
      "Testing inter_loop_dependencies_anti\n",
      "Score: 0.5296296296296296\n",
      "Testing resmii_211\n",
      "Score: 0.5883597883597884\n",
      "Testing store\n",
      "Score: 0.5732804232804233\n",
      "Testing intra_loop_dependencies\n",
      "Score: 0.5518518518518518\n",
      "Testing max_intra_loop_dependency_distance\n",
      "Score: 0.5740740740740741\n",
      "Testing inter_loop_dependencies_flow\n",
      "Score: 0.5296296296296296\n",
      "Testing intra_loop_dependencies_output\n",
      "Score: 0.5447089947089947\n",
      "Testing trip_count\n",
      "Score: 0.5222222222222221\n",
      "Testing max_inter_loop_dependency_distance\n",
      "Score: 0.5817460317460318\n",
      "Testing max_intra_loop_dependency_distance_flow\n",
      "Score: 0.5740740740740741\n",
      "Found best!\n",
      "Curr features: {'loop_nest_level', 'load', 'mem'}\n",
      "Best score: 0.6103174603174603\n",
      "\n",
      "====================\n",
      "Testing intra_loop_dependencies_anti\n",
      "Score: 0.5439153439153439\n",
      "Testing intra_loop_dependencies_flow\n",
      "Score: 0.5513227513227512\n",
      "Testing max_inter_loop_dependency_distance_anti\n",
      "Score: 0.5365079365079365\n",
      "Testing alui\n",
      "Score: 0.551058201058201\n",
      "Testing branch\n",
      "Score: 0.5735449735449736\n",
      "Testing max_intra_loop_dependency_distance_output\n",
      "Score: 0.6103174603174603\n",
      "Testing max_inter_loop_dependency_distance_output\n",
      "Score: 0.6103174603174603\n",
      "Testing max_intra_loop_dependency_distance_anti\n",
      "Score: 0.6103174603174603\n",
      "Testing inter_loop_dependencies_output\n",
      "Score: 0.5296296296296297\n",
      "Testing array_reads\n",
      "Score: 0.543915343915344\n",
      "Testing operand_sum\n",
      "Score: 0.5222222222222221\n",
      "Testing aluf\n",
      "Score: 0.5738095238095238\n",
      "Testing resmii_121\n",
      "Score: 0.5365079365079365\n",
      "Testing other\n",
      "Score: 0.5291005291005291\n",
      "Testing resmii_111\n",
      "Score: 0.543915343915344\n",
      "Testing array_writes\n",
      "Score: 0.6031746031746031\n",
      "Testing max_inter_loop_dependency_distance_flow\n",
      "Score: 0.5365079365079365\n",
      "Testing array_accesses\n",
      "Score: 0.6031746031746031\n",
      "Testing inter_loop_dependencies\n",
      "Score: 0.5298941798941799\n",
      "Testing instruction_sum\n",
      "Score: 0.5515873015873016\n",
      "Testing has_inter_loop_carried_dependency\n",
      "Score: 0.5365079365079365\n",
      "Testing inter_loop_dependencies_anti\n",
      "Score: 0.5365079365079365\n",
      "Testing resmii_211\n",
      "Score: 0.5960317460317459\n",
      "Testing store\n",
      "Score: 0.5587301587301587\n",
      "Testing intra_loop_dependencies\n",
      "Score: 0.5518518518518518\n",
      "Testing max_intra_loop_dependency_distance\n",
      "Score: 0.6103174603174603\n",
      "Testing inter_loop_dependencies_flow\n",
      "Score: 0.5365079365079365\n",
      "Testing intra_loop_dependencies_output\n",
      "Score: 0.5439153439153439\n",
      "Testing trip_count\n",
      "Score: 0.5291005291005291\n",
      "Testing max_inter_loop_dependency_distance\n",
      "Score: 0.6034391534391534\n",
      "Testing max_intra_loop_dependency_distance_flow\n",
      "Score: 0.6103174603174603\n",
      "Curr features: {'max_intra_loop_dependency_distance_output', 'loop_nest_level', 'load', 'mem'}\n",
      "Curr score: 0.6103174603174603\n",
      "Best score: 0.6103174603174603\n",
      "\n",
      "====================\n",
      "Testing intra_loop_dependencies_anti\n",
      "Score: 0.5439153439153439\n",
      "Testing intra_loop_dependencies_flow\n",
      "Score: 0.5513227513227512\n",
      "Testing max_inter_loop_dependency_distance_anti\n",
      "Score: 0.5365079365079365\n",
      "Testing alui\n",
      "Score: 0.551058201058201\n",
      "Testing branch\n",
      "Score: 0.5735449735449736\n",
      "Testing max_inter_loop_dependency_distance_output\n",
      "Score: 0.6103174603174603\n",
      "Testing max_intra_loop_dependency_distance_anti\n",
      "Score: 0.6103174603174603\n",
      "Testing inter_loop_dependencies_output\n",
      "Score: 0.5296296296296297\n",
      "Testing array_reads\n",
      "Score: 0.543915343915344\n",
      "Testing operand_sum\n",
      "Score: 0.5222222222222221\n",
      "Testing aluf\n",
      "Score: 0.5738095238095238\n",
      "Testing resmii_121\n",
      "Score: 0.5365079365079365\n",
      "Testing other\n",
      "Score: 0.5291005291005291\n",
      "Testing resmii_111\n",
      "Score: 0.543915343915344\n",
      "Testing array_writes\n",
      "Score: 0.6031746031746031\n",
      "Testing max_inter_loop_dependency_distance_flow\n",
      "Score: 0.5365079365079365\n",
      "Testing array_accesses\n",
      "Score: 0.6031746031746031\n",
      "Testing inter_loop_dependencies\n",
      "Score: 0.5298941798941799\n",
      "Testing instruction_sum\n",
      "Score: 0.5515873015873016\n",
      "Testing has_inter_loop_carried_dependency\n",
      "Score: 0.5365079365079365\n",
      "Testing inter_loop_dependencies_anti\n",
      "Score: 0.5365079365079365\n",
      "Testing resmii_211\n",
      "Score: 0.5960317460317459\n",
      "Testing store\n",
      "Score: 0.5587301587301587\n",
      "Testing intra_loop_dependencies\n",
      "Score: 0.5518518518518518\n",
      "Testing max_intra_loop_dependency_distance\n",
      "Score: 0.6103174603174603\n",
      "Testing inter_loop_dependencies_flow\n",
      "Score: 0.5365079365079365\n",
      "Testing intra_loop_dependencies_output\n",
      "Score: 0.5439153439153439\n",
      "Testing trip_count\n",
      "Score: 0.5291005291005291\n",
      "Testing max_inter_loop_dependency_distance\n",
      "Score: 0.6034391534391534\n",
      "Testing max_intra_loop_dependency_distance_flow\n",
      "Score: 0.6103174603174603\n",
      "Curr features: {'max_inter_loop_dependency_distance_output', 'load', 'mem', 'max_intra_loop_dependency_distance_output', 'loop_nest_level'}\n",
      "Curr score: 0.6103174603174603\n",
      "Best score: 0.6103174603174603\n"
     ]
    }
   ],
   "source": [
    "stop = False\n",
    "best_score = 0\n",
    "best_gsv = None\n",
    "scores = list()\n",
    "best_features = set()\n",
    "\n",
    "curr_features = set()\n",
    "\n",
    "while len(curr_features) < 5:\n",
    "    print(\"\\n====================\")\n",
    "    \n",
    "    col_to_add = None\n",
    "    best_curr_score = 0\n",
    "    best_cur_gsv = None\n",
    "\n",
    "    for column_name in (features - curr_features):\n",
    "        print(f\"Testing {column_name}\")\n",
    "        X_filtered = X[list(curr_features.union({column_name}))]\n",
    "\n",
    "        clf = make_pipeline(StandardScaler(), KNeighborsClassifier())\n",
    "        params = {\n",
    "            'kneighborsclassifier__n_neighbors': np.arange(1, 25),\n",
    "            'kneighborsclassifier__weights': ['uniform', 'distance']\n",
    "        }\n",
    "\n",
    "\n",
    "        gsv = grid_search(clf, params, cv=5, n_jobs=-1, scoring='accuracy')\n",
    "        gsv.fit(X_filtered, Y)\n",
    "\n",
    "        if gsv.best_score_ > best_curr_score:\n",
    "            best_curr_score = gsv.best_score_\n",
    "            col_to_add = column_name\n",
    "            best_cur_gsv = gsv\n",
    "        \n",
    "        print(f\"Score: {gsv.best_score_}\")\n",
    "\n",
    "    if best_curr_score > best_score:\n",
    "        best_score = best_curr_score\n",
    "        best_gsv = best_cur_gsv\n",
    "        curr_features.add(col_to_add)\n",
    "        scores.append(best_curr_score)\n",
    "        best_features = curr_features\n",
    "        print(f\"Found best!\")\n",
    "        print(f\"Curr features: {curr_features}\")\n",
    "        print(f\"Best score: {best_score}\")\n",
    "\n",
    "    elif abs(best_curr_score - best_score) >= 0.05:\n",
    "        stop = True\n",
    "\n",
    "    else:\n",
    "        curr_features.add(col_to_add)\n",
    "        scores.append(best_curr_score)\n",
    "        print(f\"Curr features: {curr_features}\")\n",
    "        print(f\"Curr score: {best_curr_score}\")\n",
    "        print(f\"Best score: {best_score}\")\n",
    "\n",
    "\n",
    "\n",
    "        \n"
   ]
  },
  {
   "cell_type": "code",
   "execution_count": 138,
   "metadata": {},
   "outputs": [
    {
     "data": {
      "image/png": "[encoded data removed]",
      "text/plain": [
       "<Figure size 1000x1000 with 2 Axes>"
      ]
     },
     "metadata": {},
     "output_type": "display_data"
    }
   ],
   "source": [
    "from sklearn.metrics import confusion_matrix\n",
    "import seaborn as sns\n",
    "import matplotlib.pyplot as plt\n",
    "\n",
    "\n",
    "cv_predictions = cross_val_predict(best_gsv.best_estimator_, X_filtered, Y, cv=5, n_jobs=-1)\n",
    "\n",
    "cm = confusion_matrix(Y, cv_predictions)\n",
    "# Normalise\n",
    "cmn = cm.astype('float') / cm.sum(axis=1)[:, np.newaxis]\n",
    "fig, ax = plt.subplots(figsize=(10,10))\n",
    "sns.heatmap(cmn, annot=True, fmt='.2f', xticklabels=np.unique(Y), yticklabels=np.unique(Y))\n",
    "plt.ylabel('Actual')\n",
    "plt.xlabel('Predicted')\n",
    "plt.show(block=False)"
   ]
  },
  {
   "cell_type": "code",
   "execution_count": 139,
   "metadata": {},
   "outputs": [
    {
     "name": "stdout",
     "output_type": "stream",
     "text": [
      "{'kneighborsclassifier__n_neighbors': 2, 'kneighborsclassifier__weights': 'uniform'}\n",
      "{'max_inter_loop_dependency_distance_output', 'load', 'mem', 'max_intra_loop_dependency_distance_output', 'loop_nest_level'}\n"
     ]
    }
   ],
   "source": [
    "print(gsv.best_params_)\n",
    "print(best_features)"
   ]
  },
  {
   "cell_type": "code",
   "execution_count": 140,
   "metadata": {},
   "outputs": [
    {
     "name": "stdout",
     "output_type": "stream",
     "text": [
      "Acc1: 0.6103174603174603\n",
      "Precision: 0.577368773596395\n",
      "Recall: 0.6102941176470589\n",
      "F1: 0.548527024446142\n"
     ]
    }
   ],
   "source": [
    "from sklearn.metrics import precision_score, recall_score, f1_score\n",
    "print(f\"Acc1: {best_score}\")\n",
    "precision = precision_score(Y, cv_predictions, average='weighted')\n",
    "recall = recall_score(Y, cv_predictions, average='weighted')\n",
    "f1 = f1_score(Y, cv_predictions, average='weighted')\n",
    "print(f\"Precision: {precision}\")\n",
    "print(f\"Recall: {recall}\")\n",
    "print(f\"F1: {f1}\")"
   ]
  },
  {
   "cell_type": "code",
   "execution_count": 142,
   "metadata": {},
   "outputs": [
    {
     "name": "stdout",
     "output_type": "stream",
     "text": [
      "Average error = 1.8676470588235294\n"
     ]
    }
   ],
   "source": [
    "avg_err = 0\n",
    "Y_list = list(Y)\n",
    "\n",
    "for i in range(len(cv_predictions)):\n",
    "    pred = cv_predictions[i]\n",
    "    true = Y_list[i]\n",
    "    avg_err += abs(pred-true)\n",
    "\n",
    "avg_err /= len(cv_predictions)\n",
    "\n",
    "print(f\"Average error = {avg_err}\")"
   ]
  },
  {
   "attachments": {},
   "cell_type": "markdown",
   "metadata": {},
   "source": [
    "# Comparison"
   ]
  },
  {
   "cell_type": "code",
   "execution_count": null,
   "metadata": {},
   "outputs": [
    {
     "data": {
      "text/html": [
       "<style>#sk-container-id-11 {color: black;}#sk-container-id-11 pre{padding: 0;}#sk-container-id-11 div.sk-toggleable {background-color: white;}#sk-container-id-11 label.sk-toggleable__label {cursor: pointer;display: block;width: 100%;margin-bottom: 0;padding: 0.3em;box-sizing: border-box;text-align: center;}#sk-container-id-11 label.sk-toggleable__label-arrow:before {content: \"▸\";float: left;margin-right: 0.25em;color: #696969;}#sk-container-id-11 label.sk-toggleable__label-arrow:hover:before {color: black;}#sk-container-id-11 div.sk-estimator:hover label.sk-toggleable__label-arrow:before {color: black;}#sk-container-id-11 div.sk-toggleable__content {max-height: 0;max-width: 0;overflow: hidden;text-align: left;background-color: #f0f8ff;}#sk-container-id-11 div.sk-toggleable__content pre {margin: 0.2em;color: black;border-radius: 0.25em;background-color: #f0f8ff;}#sk-container-id-11 input.sk-toggleable__control:checked~div.sk-toggleable__content {max-height: 200px;max-width: 100%;overflow: auto;}#sk-container-id-11 input.sk-toggleable__control:checked~label.sk-toggleable__label-arrow:before {content: \"▾\";}#sk-container-id-11 div.sk-estimator input.sk-toggleable__control:checked~label.sk-toggleable__label {background-color: #d4ebff;}#sk-container-id-11 div.sk-label input.sk-toggleable__control:checked~label.sk-toggleable__label {background-color: #d4ebff;}#sk-container-id-11 input.sk-hidden--visually {border: 0;clip: rect(1px 1px 1px 1px);clip: rect(1px, 1px, 1px, 1px);height: 1px;margin: -1px;overflow: hidden;padding: 0;position: absolute;width: 1px;}#sk-container-id-11 div.sk-estimator {font-family: monospace;background-color: #f0f8ff;border: 1px dotted black;border-radius: 0.25em;box-sizing: border-box;margin-bottom: 0.5em;}#sk-container-id-11 div.sk-estimator:hover {background-color: #d4ebff;}#sk-container-id-11 div.sk-parallel-item::after {content: \"\";width: 100%;border-bottom: 1px solid gray;flex-grow: 1;}#sk-container-id-11 div.sk-label:hover label.sk-toggleable__label {background-color: #d4ebff;}#sk-container-id-11 div.sk-serial::before {content: \"\";position: absolute;border-left: 1px solid gray;box-sizing: border-box;top: 0;bottom: 0;left: 50%;z-index: 0;}#sk-container-id-11 div.sk-serial {display: flex;flex-direction: column;align-items: center;background-color: white;padding-right: 0.2em;padding-left: 0.2em;position: relative;}#sk-container-id-11 div.sk-item {position: relative;z-index: 1;}#sk-container-id-11 div.sk-parallel {display: flex;align-items: stretch;justify-content: center;background-color: white;position: relative;}#sk-container-id-11 div.sk-item::before, #sk-container-id-11 div.sk-parallel-item::before {content: \"\";position: absolute;border-left: 1px solid gray;box-sizing: border-box;top: 0;bottom: 0;left: 50%;z-index: -1;}#sk-container-id-11 div.sk-parallel-item {display: flex;flex-direction: column;z-index: 1;position: relative;background-color: white;}#sk-container-id-11 div.sk-parallel-item:first-child::after {align-self: flex-end;width: 50%;}#sk-container-id-11 div.sk-parallel-item:last-child::after {align-self: flex-start;width: 50%;}#sk-container-id-11 div.sk-parallel-item:only-child::after {width: 0;}#sk-container-id-11 div.sk-dashed-wrapped {border: 1px dashed gray;margin: 0 0.4em 0.5em 0.4em;box-sizing: border-box;padding-bottom: 0.4em;background-color: white;}#sk-container-id-11 div.sk-label label {font-family: monospace;font-weight: bold;display: inline-block;line-height: 1.2em;}#sk-container-id-11 div.sk-label-container {text-align: center;}#sk-container-id-11 div.sk-container {/* jupyter's `normalize.less` sets `[hidden] { display: none; }` but bootstrap.min.css set `[hidden] { display: none !important; }` so we also need the `!important` here to be able to override the default hidden behavior on the sphinx rendered scikit-learn.org. See: https://github.com/scikit-learn/scikit-learn/issues/21755 */display: inline-block !important;position: relative;}#sk-container-id-11 div.sk-text-repr-fallback {display: none;}</style><div id=\"sk-container-id-11\" class=\"sk-top-container\"><div class=\"sk-text-repr-fallback\"><pre>GridSearchCV(cv=5,\n",
       "             estimator=Pipeline(steps=[(&#x27;standardscaler&#x27;, StandardScaler()),\n",
       "                                       (&#x27;kneighborsclassifier&#x27;,\n",
       "                                        KNeighborsClassifier())]),\n",
       "             n_jobs=-1,\n",
       "             param_grid={&#x27;kneighborsclassifier__n_neighbors&#x27;: array([ 1,  2,  3,  4,  5,  6,  7,  8,  9, 10, 11, 12, 13, 14, 15, 16, 17,\n",
       "       18, 19, 20, 21, 22, 23, 24]),\n",
       "                         &#x27;kneighborsclassifier__weights&#x27;: [&#x27;uniform&#x27;,\n",
       "                                                           &#x27;distance&#x27;]},\n",
       "             scoring=&#x27;accuracy&#x27;)</pre><b>In a Jupyter environment, please rerun this cell to show the HTML representation or trust the notebook. <br />On GitHub, the HTML representation is unable to render, please try loading this page with nbviewer.org.</b></div><div class=\"sk-container\" hidden><div class=\"sk-item sk-dashed-wrapped\"><div class=\"sk-label-container\"><div class=\"sk-label sk-toggleable\"><input class=\"sk-toggleable__control sk-hidden--visually\" id=\"sk-estimator-id-41\" type=\"checkbox\" ><label for=\"sk-estimator-id-41\" class=\"sk-toggleable__label sk-toggleable__label-arrow\">GridSearchCV</label><div class=\"sk-toggleable__content\"><pre>GridSearchCV(cv=5,\n",
       "             estimator=Pipeline(steps=[(&#x27;standardscaler&#x27;, StandardScaler()),\n",
       "                                       (&#x27;kneighborsclassifier&#x27;,\n",
       "                                        KNeighborsClassifier())]),\n",
       "             n_jobs=-1,\n",
       "             param_grid={&#x27;kneighborsclassifier__n_neighbors&#x27;: array([ 1,  2,  3,  4,  5,  6,  7,  8,  9, 10, 11, 12, 13, 14, 15, 16, 17,\n",
       "       18, 19, 20, 21, 22, 23, 24]),\n",
       "                         &#x27;kneighborsclassifier__weights&#x27;: [&#x27;uniform&#x27;,\n",
       "                                                           &#x27;distance&#x27;]},\n",
       "             scoring=&#x27;accuracy&#x27;)</pre></div></div></div><div class=\"sk-parallel\"><div class=\"sk-parallel-item\"><div class=\"sk-item\"><div class=\"sk-label-container\"><div class=\"sk-label sk-toggleable\"><input class=\"sk-toggleable__control sk-hidden--visually\" id=\"sk-estimator-id-42\" type=\"checkbox\" ><label for=\"sk-estimator-id-42\" class=\"sk-toggleable__label sk-toggleable__label-arrow\">estimator: Pipeline</label><div class=\"sk-toggleable__content\"><pre>Pipeline(steps=[(&#x27;standardscaler&#x27;, StandardScaler()),\n",
       "                (&#x27;kneighborsclassifier&#x27;, KNeighborsClassifier())])</pre></div></div></div><div class=\"sk-serial\"><div class=\"sk-item\"><div class=\"sk-serial\"><div class=\"sk-item\"><div class=\"sk-estimator sk-toggleable\"><input class=\"sk-toggleable__control sk-hidden--visually\" id=\"sk-estimator-id-43\" type=\"checkbox\" ><label for=\"sk-estimator-id-43\" class=\"sk-toggleable__label sk-toggleable__label-arrow\">StandardScaler</label><div class=\"sk-toggleable__content\"><pre>StandardScaler()</pre></div></div></div><div class=\"sk-item\"><div class=\"sk-estimator sk-toggleable\"><input class=\"sk-toggleable__control sk-hidden--visually\" id=\"sk-estimator-id-44\" type=\"checkbox\" ><label for=\"sk-estimator-id-44\" class=\"sk-toggleable__label sk-toggleable__label-arrow\">KNeighborsClassifier</label><div class=\"sk-toggleable__content\"><pre>KNeighborsClassifier()</pre></div></div></div></div></div></div></div></div></div></div></div></div>"
      ],
      "text/plain": [
       "GridSearchCV(cv=5,\n",
       "             estimator=Pipeline(steps=[('standardscaler', StandardScaler()),\n",
       "                                       ('kneighborsclassifier',\n",
       "                                        KNeighborsClassifier())]),\n",
       "             n_jobs=-1,\n",
       "             param_grid={'kneighborsclassifier__n_neighbors': array([ 1,  2,  3,  4,  5,  6,  7,  8,  9, 10, 11, 12, 13, 14, 15, 16, 17,\n",
       "       18, 19, 20, 21, 22, 23, 24]),\n",
       "                         'kneighborsclassifier__weights': ['uniform',\n",
       "                                                           'distance']},\n",
       "             scoring='accuracy')"
      ]
     },
     "execution_count": 125,
     "metadata": {},
     "output_type": "execute_result"
    }
   ],
   "source": [
    "X_filtered = X[[\"operand_sum\", \"instruction_sum\", \"trip_count\"]]\n",
    "\n",
    "clf = make_pipeline(StandardScaler(), KNeighborsClassifier())\n",
    "params = {\n",
    "    'kneighborsclassifier__n_neighbors': np.arange(1, 25),\n",
    "    'kneighborsclassifier__weights': ['uniform', 'distance']\n",
    "}\n",
    "\n",
    "\n",
    "gsv = grid_search(clf, params, cv=5, n_jobs=-1, scoring='accuracy')\n",
    "gsv.fit(X_filtered, Y)"
   ]
  },
  {
   "cell_type": "code",
   "execution_count": null,
   "metadata": {},
   "outputs": [
    {
     "name": "stdout",
     "output_type": "stream",
     "text": [
      "Acc1: 0.6103174603174603\n",
      "Precision: 0.43653250773993807\n",
      "Recall: 0.5294117647058824\n",
      "F1: 0.3852364475201846\n"
     ]
    },
    {
     "name": "stderr",
     "output_type": "stream",
     "text": [
      "/Users/meharsingh/Documents/compilers/compilers_env/lib/python3.10/site-packages/sklearn/metrics/_classification.py:1471: UndefinedMetricWarning: Precision is ill-defined and being set to 0.0 in labels with no predicted samples. Use `zero_division` parameter to control this behavior.\n",
      "  _warn_prf(average, modifier, msg_start, len(result))\n"
     ]
    }
   ],
   "source": [
    "from sklearn.metrics import precision_score, recall_score, f1_score\n",
    "cv_predictions = cross_val_predict(gsv.best_estimator_, X_filtered, Y, cv=5, n_jobs=-1)\n",
    "print(f\"Acc1: {best_score}\")\n",
    "precision = precision_score(Y, cv_predictions, average='weighted')\n",
    "recall = recall_score(Y, cv_predictions, average='weighted')\n",
    "f1 = f1_score(Y, cv_predictions, average='weighted')\n",
    "print(f\"Precision: {precision}\")\n",
    "print(f\"Recall: {recall}\")\n",
    "print(f\"F1: {f1}\")"
   ]
  },
  {
   "cell_type": "code",
   "execution_count": null,
   "metadata": {},
   "outputs": [
    {
     "data": {
      "image/png": "[encoded data removed]",
      "text/plain": [
       "<Figure size 1000x1000 with 2 Axes>"
      ]
     },
     "metadata": {},
     "output_type": "display_data"
    }
   ],
   "source": [
    "from sklearn.metrics import confusion_matrix\n",
    "import seaborn as sns\n",
    "import matplotlib.pyplot as plt\n",
    "\n",
    "\n",
    "cm = confusion_matrix(Y, cv_predictions)\n",
    "# Normalise\n",
    "cmn = cm.astype('float') / cm.sum(axis=1)[:, np.newaxis]\n",
    "fig, ax = plt.subplots(figsize=(10,10))\n",
    "sns.heatmap(cmn, annot=True, fmt='.2f', xticklabels=np.unique(Y), yticklabels=np.unique(Y))\n",
    "plt.ylabel('Actual')\n",
    "plt.xlabel('Predicted')\n",
    "plt.show(block=False)"
   ]
  },
  {
   "cell_type": "code",
   "execution_count": null,
   "metadata": {},
   "outputs": [
    {
     "name": "stdout",
     "output_type": "stream",
     "text": [
      "[1 1 1 4 1 1 1 1 1 1 1 1 1 1 1 1 1 1 1 1 1 1 1 1 1 1 1 1 1 1 1 1 1 1 1 1 1\n",
      " 1 1 1 1 1 1 1 1 1 1 1 1 1 1 1 1 1 1 1 1 1 1 1 1 1 1 1 1 1 1 1 1 1 1 1 1 1\n",
      " 1 1 1 4 1 1 1 1 1 1 1 1 1 1 1 1 1 1 1 1 1 1 1 1 1 1 1 1 1 1 1 1 1 1 1 1 1\n",
      " 1 1 1 1 1 1 1 1 1 1 1 1 1 1 1 1 4 1 1 1 1 1 1 1 1]\n",
      "0      1\n",
      "1      1\n",
      "2      8\n",
      "3      4\n",
      "7      1\n",
      "      ..\n",
      "241    1\n",
      "242    1\n",
      "244    1\n",
      "245    1\n",
      "246    1\n",
      "Name: optimal_luf, Length: 136, dtype: int64\n"
     ]
    }
   ],
   "source": [
    "avg_err = 0\n",
    "Y_list = list(Y)\n",
    "\n",
    "for i in range(len(cv_predictions)):\n",
    "    pred = cv_predictions[i]\n",
    "    true = Y_list[i]\n",
    "    avg_err += abs(pred-true)\n",
    "\n",
    "avg_err /= len(cv_predictions)\n",
    "\n",
    "print(f\"Average error = {avg_err}\")"
   ]
  },
  {
   "attachments": {},
   "cell_type": "markdown",
   "metadata": {},
   "source": []
  }
 ],
 "metadata": {
  "kernelspec": {
   "display_name": "compilers_env",
   "language": "python",
   "name": "python3"
  },
  "language_info": {
   "codemirror_mode": {
    "name": "ipython",
    "version": 3
   },
   "file_extension": ".py",
   "mimetype": "text/x-python",
   "name": "python",
   "nbconvert_exporter": "python",
   "pygments_lexer": "ipython3",
   "version": "3.10.9"
  },
  "orig_nbformat": 4
 },
 "nbformat": 4,
 "nbformat_minor": 2
}

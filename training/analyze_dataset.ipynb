{
 "cells": [
  {
   "cell_type": "code",
   "execution_count": 13,
   "metadata": {},
   "outputs": [],
   "source": [
    "import numpy\n",
    "import json\n",
    "import random\n",
    "from json import encoder\n",
    "encoder.FLOAT_REPR = lambda o: format(o, '.2f')"
   ]
  },
  {
   "cell_type": "code",
   "execution_count": 16,
   "metadata": {},
   "outputs": [],
   "source": [
    "with open(\"dataset.json\") as f:\n",
    "    dataset = json.load(f)"
   ]
  },
  {
   "cell_type": "code",
   "execution_count": 17,
   "metadata": {},
   "outputs": [
    {
     "name": "stdout",
     "output_type": "stream",
     "text": [
      "select.c\n",
      "lcs.c\n",
      "simpsons_1_3rd_rule.c\n",
      "sqrt.c\n",
      "matmul.c\n",
      "hash_xor8.c\n",
      "rot13.c\n",
      "mehar.c\n",
      "hash_sdbm.c\n",
      "fibonacci_search.c\n",
      "collatz.c\n",
      "jfdctint.c\n",
      "minver.c\n",
      "qsort-exam.c\n",
      "linear_search.c\n",
      "shell_sort.c\n",
      "pancake_sort.c\n",
      "bs.c\n",
      "alaw.c\n",
      "hash_crc32.c\n"
     ]
    }
   ],
   "source": [
    "for program in dataset:\n",
    "    print(program)"
   ]
  },
  {
   "cell_type": "code",
   "execution_count": 15,
   "metadata": {},
   "outputs": [
    {
     "name": "stdout",
     "output_type": "stream",
     "text": [
      "=================================\n",
      "Program: alaw.c\n",
      "Pass found 5 loops\n",
      "AST found 7 loops\n"
     ]
    }
   ],
   "source": [
    "for program in dataset:\n",
    "    feature_info = dataset[program][0]\n",
    "    timing_info = dataset[program][1]\n",
    "\n",
    "    num_pass_loops = len(feature_info)\n",
    "    num_ast_loops = len(timing_info)\n",
    "\n",
    "    if not num_pass_loops == num_ast_loops:\n",
    "        print(\"=================================\")\n",
    "        print(f\"Program: {program}\")\n",
    "        print(f\"Pass found {num_pass_loops} loops\")\n",
    "        print(f\"AST found {num_ast_loops} loops\")"
   ]
  },
  {
   "cell_type": "code",
   "execution_count": null,
   "metadata": {},
   "outputs": [],
   "source": []
  },
  {
   "cell_type": "code",
   "execution_count": null,
   "metadata": {},
   "outputs": [],
   "source": []
  }
 ],
 "metadata": {
  "kernelspec": {
   "display_name": "compilers_env",
   "language": "python",
   "name": "python3"
  },
  "language_info": {
   "codemirror_mode": {
    "name": "ipython",
    "version": 3
   },
   "file_extension": ".py",
   "mimetype": "text/x-python",
   "name": "python",
   "nbconvert_exporter": "python",
   "pygments_lexer": "ipython3",
   "version": "3.10.9"
  },
  "orig_nbformat": 4
 },
 "nbformat": 4,
 "nbformat_minor": 2
}
